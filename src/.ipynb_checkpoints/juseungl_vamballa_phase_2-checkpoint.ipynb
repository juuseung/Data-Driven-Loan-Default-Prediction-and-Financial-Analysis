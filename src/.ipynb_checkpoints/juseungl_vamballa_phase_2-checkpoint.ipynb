{
 "cells": [
  {
   "cell_type": "markdown",
   "id": "496eaef8-7364-422b-8858-437afc399f34",
   "metadata": {},
   "source": [
    "## Import Libraries"
   ]
  },
  {
   "cell_type": "code",
   "execution_count": null,
   "id": "673078c6-81d1-4b7b-b11b-c73b70217041",
   "metadata": {},
   "outputs": [],
   "source": []
  },
  {
   "cell_type": "markdown",
   "id": "c8771f1b-1249-4dab-9c78-12d3822f9c8a",
   "metadata": {},
   "source": [
    "## Algorithms/Visualizations"
   ]
  },
  {
   "cell_type": "markdown",
   "id": "fe0d8bdc-86db-4ca1-a0ff-418d1c3d5b40",
   "metadata": {},
   "source": [
    "### (1) Logistic Regression"
   ]
  },
  {
   "cell_type": "markdown",
   "id": "d96c3389-6032-438f-aeb2-3c8e4c655810",
   "metadata": {},
   "source": [
    "### (2) k-NN"
   ]
  },
  {
   "cell_type": "markdown",
   "id": "255d58aa-c25c-4ddf-8ae8-7e820c59212c",
   "metadata": {},
   "source": [
    "### (3) Naive Bayes"
   ]
  },
  {
   "cell_type": "markdown",
   "id": "f75a0cb1-b423-4708-afe9-325de2883f3d",
   "metadata": {},
   "source": [
    "### (4) SVM(Support vector machines)"
   ]
  },
  {
   "cell_type": "markdown",
   "id": "51342ec9-12e0-4781-8b9b-c620ddfd9d40",
   "metadata": {},
   "source": [
    "### (5) XGBoost"
   ]
  },
  {
   "cell_type": "markdown",
   "id": "d61c8010-b56f-4b2e-a828-32fcf22d214c",
   "metadata": {},
   "source": [
    "### (6) decision tree"
   ]
  },
  {
   "cell_type": "markdown",
   "id": "72720354-a051-4713-8ceb-b855dcec7d62",
   "metadata": {},
   "source": [
    "### (7) random forest"
   ]
  },
  {
   "cell_type": "markdown",
   "id": "8a669efb-d144-4eea-930e-a75a566d5ae9",
   "metadata": {},
   "source": [
    "## Explanation and Analysis"
   ]
  },
  {
   "cell_type": "code",
   "execution_count": null,
   "id": "514d55c4-3ecd-4e54-a191-89c13b7d00e2",
   "metadata": {},
   "outputs": [],
   "source": []
  }
 ],
 "metadata": {
  "kernelspec": {
   "display_name": "Python 3 (ipykernel)",
   "language": "python",
   "name": "python3"
  },
  "language_info": {
   "codemirror_mode": {
    "name": "ipython",
    "version": 3
   },
   "file_extension": ".py",
   "mimetype": "text/x-python",
   "name": "python",
   "nbconvert_exporter": "python",
   "pygments_lexer": "ipython3",
   "version": "3.8.10"
  }
 },
 "nbformat": 4,
 "nbformat_minor": 5
}
