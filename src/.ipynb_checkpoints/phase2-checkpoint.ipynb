{
 "cells": [
  {
   "cell_type": "code",
   "execution_count": 4,
   "metadata": {},
   "outputs": [],
   "source": [
    "from sklearn.model_selection import train_test_split, cross_val_score\n",
    "from sklearn.preprocessing import StandardScaler\n",
    "from sklearn.pipeline import Pipeline\n",
    "from sklearn.linear_model import LogisticRegression\n",
    "from sklearn.neighbors import KNeighborsClassifier\n",
    "from sklearn.ensemble import RandomForestClassifier\n",
    "from sklearn.naive_bayes import GaussianNB\n",
    "from sklearn.svm import SVC\n",
    "from sklearn.tree import DecisionTreeClassifier\n",
    "from xgboost import XGBClassifier\n",
    "from tqdm.notebook import tqdm\n",
    "\n",
    "import pandas as pd"
   ]
  },
  {
   "cell_type": "code",
   "execution_count": 5,
   "metadata": {},
   "outputs": [],
   "source": [
    "\n",
    "# Loading preprocessed dataset\n",
    "loanDF = pd.read_csv('../datasets/Loan_Default_cleaned_downsampled.csv')\n",
    "\n",
    "# Split the dataset\n",
    "X = loanDF.drop('status', axis=1)\n",
    "y = loanDF.status\n",
    "X_train, X_test, y_train, y_test = train_test_split(\n",
    "                                            X, y, \n",
    "                                            test_size=0.2, \n",
    "                                            random_state=42\n",
    "                                            )"
   ]
  },
  {
   "cell_type": "code",
   "execution_count": 7,
   "metadata": {},
   "outputs": [],
   "source": [
    "\n",
    "# Define the models\n",
    "models = {\n",
    "    \"Logistic Regression\": LogisticRegression(solver='lbfgs', max_iter=1000),\n",
    "    \"KNN\": KNeighborsClassifier(),\n",
    "    \"Random Forest\": RandomForestClassifier(),\n",
    "    \"Naive Bayes\": GaussianNB(),\n",
    "    \"SVM\": SVC(),\n",
    "    \"XGBoost\": XGBClassifier(),\n",
    "    \"Decision Tree\": DecisionTreeClassifier()\n",
    "}\n",
    "\n",
    "# Create pipelines for each model\n",
    "pipelines = {name: Pipeline([('scaler', StandardScaler()), ('model', model)]) for name, model in models.items()}\n"
   ]
  },
  {
   "cell_type": "code",
   "execution_count": 8,
   "metadata": {},
   "outputs": [
    {
     "data": {
      "application/vnd.jupyter.widget-view+json": {
       "model_id": "798f9c1292b74eb7aaca56a0658ffbd9",
       "version_major": 2,
       "version_minor": 0
      },
      "text/plain": [
       "Evaluating models:   0%|          | 0/7 [00:00<?, ?it/s]"
      ]
     },
     "metadata": {},
     "output_type": "display_data"
    },
    {
     "name": "stdout",
     "output_type": "stream",
     "text": [
      "Logistic Regression: 0.7742320314109994\n",
      "KNN: 0.8508096715265439\n",
      "Random Forest: 1.0\n",
      "Naive Bayes: 0.7183935914357912\n",
      "SVM: 0.9558437134340082\n",
      "XGBoost: 0.9999823788546255\n",
      "Decision Tree: 0.9999823788546255\n"
     ]
    }
   ],
   "source": [
    "\n",
    "# Evaluate each model using cross-validation\n",
    "cv_scores = {}\n",
    "for name, pipeline in tqdm(pipelines.items(), desc='Evaluating models'):\n",
    "    score = cross_val_score(pipeline, X_train, y_train, cv=5, scoring='accuracy').mean()\n",
    "    cv_scores[name] = score\n",
    "\n",
    "# Print the performance\n",
    "for model in cv_scores:\n",
    "    print(f\"{model}: {cv_scores[model]}\")\n",
    "\n",
    "# Select the best model based on CV score\n",
    "best_model_name = max(cv_scores, key=cv_scores.get)\n",
    "best_model = pipelines[best_model_name]\n"
   ]
  },
  {
   "cell_type": "markdown",
   "metadata": {},
   "source": [
    "## If standardscaler is not used in the pipeline. while training LinearModel, max_iter reached error is observed. Need to fix this"
   ]
  }
 ],
 "metadata": {
  "kernelspec": {
   "display_name": "Python 3 (ipykernel)",
   "language": "python",
   "name": "python3"
  },
  "language_info": {
   "codemirror_mode": {
    "name": "ipython",
    "version": 3
   },
   "file_extension": ".py",
   "mimetype": "text/x-python",
   "name": "python",
   "nbconvert_exporter": "python",
   "pygments_lexer": "ipython3",
   "version": "3.8.10"
  }
 },
 "nbformat": 4,
 "nbformat_minor": 4
}
